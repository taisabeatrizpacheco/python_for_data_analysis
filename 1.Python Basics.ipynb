{
 "cells": [
  {
   "cell_type": "markdown",
   "id": "d452d834",
   "metadata": {},
   "source": [
    "<a id='python_basics'></a>\n",
    "\n",
    "\n",
    "\n",
    "# 1. Ten Steps to Master Python Basics🐍\n",
    "\n",
    "<div class=\"alert alert-block alert-info\">\n",
    "This module is intended to give you guidance on how to master basic python concepts.\n",
    "</div>\n",
    "\n",
    "\n",
    "> You will learn:\n",
    "    <ol>\n",
    "    <li> ![Data Types](#1_1) </li>\n",
    "    <li> [Strings](#1_2) </li>\n",
    "    <li> [Operators](#1_3) </li>\n",
    "    <li> [Functions](#1_4) </li>\n",
    "    <li> [Lists](#1_5) </li>\n",
    "    <li> [Tuples](#1_6) </li>\n",
    "    <li> [Dictionaries](#1_7) </li>\n",
    "    <li> [Conditional Statements and Loops](#1_8) </li>\n",
    "    <li> [Classes](#1_9) </li>\n",
    "    <li> [Error Handling](#1_10) </li>\n",
    "    </ol>\n",
    "\n",
    "### Grab a coffee  and let's code! ☕️👩🏻‍💻\n",
    "\n",
    "<br /> \n",
    "<br /> \n",
    "\n",
    "<center><b><font size=\"5\">\n",
    "    Good Luck!🍀🚀\n",
    "</center></b><fontsize>"
   ]
  },
  {
   "cell_type": "markdown",
   "id": "ff0af560",
   "metadata": {},
   "source": [
    "<a id='1_1'></a>\n",
    "\n",
    "## 1.1 Data Types"
   ]
  },
  {
   "cell_type": "markdown",
   "id": "97507660",
   "metadata": {},
   "source": [
    "<div class=\"alert alert-block alert-info\">\n",
    "<b>Getting the data type:</b> each object in python has a specific data type. Some of them are shown below. The function <i>type</i> accesses the variable's type, whereas the function <i>print</i> display its value. \n",
    "</div>"
   ]
  },
  {
   "cell_type": "code",
   "execution_count": 39,
   "id": "3b1c231f",
   "metadata": {
    "scrolled": true
   },
   "outputs": [
    {
     "name": "stdout",
     "output_type": "stream",
     "text": [
      "<class 'str'>\n",
      "<class 'int'>\n",
      "<class 'float'>\n",
      "<class 'complex'>\n",
      "<class 'list'>\n",
      "<class 'tuple'>\n",
      "<class 'range'>\n",
      "<class 'dict'>\n",
      "<class 'bool'>\n"
     ]
    }
   ],
   "source": [
    "# string\n",
    "x = 'Hi there!'\n",
    "print(type(x))\n",
    "\n",
    "# integer\n",
    "x = 40\n",
    "print(type(x))\n",
    "\n",
    "# float\n",
    "x = 34.35\n",
    "print(type(x))\n",
    "\n",
    "# complex number\n",
    "x = 2j + 3\n",
    "print(type(x))\n",
    "\n",
    "# list\n",
    "x = ['a','b','c']\n",
    "print(type(x))\n",
    "\n",
    "# tuple\n",
    "x = ('a','b','c')\n",
    "print(type(x))\n",
    "\n",
    "# range\n",
    "x = range(10)\n",
    "print(type(x))\n",
    "\n",
    "# dictionary\n",
    "x = {'category':'fruit', 'name':'banana'}\n",
    "print(type(x))\n",
    "\n",
    "# boolean\n",
    "x = True\n",
    "print(type(x))"
   ]
  },
  {
   "cell_type": "markdown",
   "id": "05a0e84e",
   "metadata": {},
   "source": [
    "<div class=\"alert alert-block alert-info\">\n",
    "<b>Setting the data type:</b> the datatype of an object can be changed with the syntax shown in the example below. \n",
    "</div>"
   ]
  },
  {
   "cell_type": "code",
   "execution_count": 24,
   "id": "83816ca9",
   "metadata": {},
   "outputs": [
    {
     "name": "stdout",
     "output_type": "stream",
     "text": [
      "Type of x is:  <class 'int'>\n",
      "Type of x is:  <class 'str'>\n"
     ]
    }
   ],
   "source": [
    "x = 20\n",
    "print('Type of x is: ', type(x))\n",
    "x = str(20)\n",
    "print('Type of x is: ', type(x))"
   ]
  },
  {
   "cell_type": "markdown",
   "id": "3419f9c3",
   "metadata": {},
   "source": [
    "<a id='1_2'></a>\n",
    "\n",
    "## 1.2 Strings"
   ]
  },
  {
   "cell_type": "markdown",
   "id": "b25cf973",
   "metadata": {},
   "source": [
    "<div class=\"alert alert-block alert-info\">\n",
    "<b>String syntax:</b> strings in python can be defined using single or double quotations. Especial characters can be inserted in strings by \"escaping\" the quote with a backslash. Multiple line strings can be defined using \"/n\" as a line break or by using triple quotes.\n",
    "</div>"
   ]
  },
  {
   "cell_type": "code",
   "execution_count": 28,
   "id": "2e5436ab",
   "metadata": {},
   "outputs": [
    {
     "name": "stdout",
     "output_type": "stream",
     "text": [
      "Is a equal b? True\n"
     ]
    }
   ],
   "source": [
    "a = 'Jack, come back!'\n",
    "b = \"Jack, come back!\"\n",
    "\n",
    "print('Is a equal b?', a == b)"
   ]
  },
  {
   "cell_type": "code",
   "execution_count": 27,
   "id": "1bff72db",
   "metadata": {},
   "outputs": [
    {
     "name": "stdout",
     "output_type": "stream",
     "text": [
      "What's up?\n"
     ]
    }
   ],
   "source": [
    "c = 'What\\'s up?'\n",
    "print(c)"
   ]
  },
  {
   "cell_type": "code",
   "execution_count": 32,
   "id": "b4e58001",
   "metadata": {
    "scrolled": true
   },
   "outputs": [
    {
     "name": "stdout",
     "output_type": "stream",
     "text": [
      "I\n",
      "got\n",
      "the\n",
      "eye\n",
      "of\n",
      "the\n",
      "tiger\n"
     ]
    }
   ],
   "source": [
    "x = 'I\\ngot\\nthe\\neye\\nof\\nthe\\ntiger'\n",
    "print(x)"
   ]
  },
  {
   "cell_type": "code",
   "execution_count": 34,
   "id": "efadac3a",
   "metadata": {},
   "outputs": [
    {
     "name": "stdout",
     "output_type": "stream",
     "text": [
      "I got the eye \n",
      "of the tiger\n"
     ]
    }
   ],
   "source": [
    "x = \"\"\"I got the eye \n",
    "of the tiger\"\"\"\n",
    "print(x)"
   ]
  },
  {
   "cell_type": "markdown",
   "id": "2e455026",
   "metadata": {},
   "source": [
    "<div class=\"alert alert-block alert-info\">\n",
    "<b>Operations with strings:</b> strings are sequences of characters which can undergo various operations, as exemplified below.\n",
    "</div>"
   ]
  },
  {
   "cell_type": "code",
   "execution_count": 53,
   "id": "d5048d65",
   "metadata": {},
   "outputs": [
    {
     "name": "stdout",
     "output_type": "stream",
     "text": [
      "4\n",
      "I\n",
      "in\n",
      "oops, I did it again\n",
      "['o-', 'o-', 'p-', 's-']\n",
      "OOPS\n",
      "i did it again\n",
      "True\n",
      "False\n"
     ]
    }
   ],
   "source": [
    "text_1 = 'oops'\n",
    "text_2 = ', '\n",
    "text_3 = 'I did it again'\n",
    "\n",
    "# number of characters\n",
    "print(len(text_1))\n",
    "\n",
    "# first character\n",
    "print(text_3[0])\n",
    "\n",
    "#last two characters\n",
    "print(text_3[-2:])\n",
    "\n",
    "# concatenation\n",
    "print(text_1 + text_2 + text_3)\n",
    "\n",
    "# loop over strings\n",
    "print([i + '-' for i in text_1])\n",
    "\n",
    "# uppercase and lowercase\n",
    "print(text_1.upper())\n",
    "print(text_3.lower())\n",
    "\n",
    "# booleans\n",
    "print(text_3.startswith('I'))\n",
    "print(text_3.endswith('aga'))"
   ]
  },
  {
   "cell_type": "code",
   "execution_count": 49,
   "id": "fb2c69d1",
   "metadata": {},
   "outputs": [
    {
     "name": "stdout",
     "output_type": "stream",
     "text": [
      "02/12/1984\n"
     ]
    }
   ],
   "source": [
    "# join with rule\n",
    "day = '02'\n",
    "month = '12'\n",
    "year = '1984'\n",
    "print('/'.join([day, month, year]))"
   ]
  },
  {
   "cell_type": "code",
   "execution_count": 52,
   "id": "6906e4b9",
   "metadata": {},
   "outputs": [
    {
     "name": "stdout",
     "output_type": "stream",
     "text": [
      "John is 28 years old.\n",
      "John is 28 years old.\n"
     ]
    }
   ],
   "source": [
    "# different print options\n",
    "\n",
    "name = 'John'\n",
    "age = '28'\n",
    "\n",
    "print(name + ' is ' + age + ' years old.')\n",
    "print('{} is {} years old.'.format(name, age))"
   ]
  },
  {
   "cell_type": "markdown",
   "id": "7f7c57b8",
   "metadata": {},
   "source": [
    "<a id='1_3'></a>\n",
    "\n",
    "## 1.3 Operators"
   ]
  },
  {
   "cell_type": "markdown",
   "id": "b982df16",
   "metadata": {},
   "source": [
    "<div class=\"alert alert-block alert-info\">\n",
    "<b> Operations:</b> just like mathematics, python have operators. There are mathematical, comparison, logical, bitwise, identity, and membership operators. Some of each catergory are shown in the examples below.\n",
    "</div>"
   ]
  },
  {
   "cell_type": "code",
   "execution_count": 11,
   "id": "f79f195a",
   "metadata": {},
   "outputs": [
    {
     "name": "stdout",
     "output_type": "stream",
     "text": [
      "a + b = 5\n",
      "a - b = -1\n",
      "a * b = 6\n",
      "a / b = 0.6666666666666666\n",
      "a // b = 0\n",
      "a ** b = 8\n",
      "a % b = 1\n"
     ]
    }
   ],
   "source": [
    "# Mathematical operators\n",
    "\n",
    "a = 2\n",
    "b = 3\n",
    "\n",
    "# addition\n",
    "print('a + b =', a + b)\n",
    "\n",
    "#subtraction\n",
    "print('a - b =', a - b)\n",
    "\n",
    "# multiplication\n",
    "print('a * b =', a * b)\n",
    "\n",
    "#division\n",
    "print('a / b =', a / b)\n",
    "\n",
    "# integer division\n",
    "print('a // b =', a // b)\n",
    "\n",
    "# exponent\n",
    "print('a ** b =', a ** b)\n",
    "\n",
    "# modulus/remainder\n",
    "print('a % b =', b % a)"
   ]
  },
  {
   "cell_type": "code",
   "execution_count": 10,
   "id": "8b73bd82",
   "metadata": {},
   "outputs": [
    {
     "name": "stdout",
     "output_type": "stream",
     "text": [
      "a == b = False\n",
      "a != b = True\n",
      "a < b = True\n",
      "a <= b = True\n",
      "a > b = False\n",
      "a >= b = False\n"
     ]
    }
   ],
   "source": [
    "# Comparison operators\n",
    "a = 10\n",
    "b = 20\n",
    "\n",
    "\n",
    "# equal to\n",
    "print('a == b =', a == b )\n",
    "\n",
    "# not equal to\n",
    "print('a != b =', a != b )\n",
    "\n",
    "# less than\n",
    "print('a < b =', a < b )\n",
    "\n",
    "# less than or equal to\n",
    "print('a <= b =', a <= b )\n",
    "\n",
    "# greater then\n",
    "print('a > b =', a > b )\n",
    "\n",
    "# greater then or equal to\n",
    "print('a >= b =', a >= b )"
   ]
  },
  {
   "cell_type": "code",
   "execution_count": 9,
   "id": "16fcf7fa",
   "metadata": {},
   "outputs": [
    {
     "name": "stdout",
     "output_type": "stream",
     "text": [
      "a and b is False\n",
      "a or b is False\n",
      "not a is False\n"
     ]
    }
   ],
   "source": [
    "# Logical operators\n",
    "\n",
    "a = True\n",
    "b = False\n",
    "\n",
    "print('a and b is', a and b)\n",
    "print('a or b is', a and b)\n",
    "print('not a is', not a)"
   ]
  },
  {
   "cell_type": "code",
   "execution_count": 14,
   "id": "71bcaa36",
   "metadata": {},
   "outputs": [
    {
     "name": "stdout",
     "output_type": "stream",
     "text": [
      "a & b = 0b0\n",
      "x | y = 0b11110\n",
      "x ^ y = 0b11110\n",
      "x << y = 0b101000000000000000000000\n",
      "x >> y = 0b0\n",
      "~ x = -0b1011\n"
     ]
    }
   ],
   "source": [
    "# Bitwise operators\n",
    "\n",
    "a = 10\n",
    "b = 20\n",
    "\n",
    "# and operator\n",
    "print ('a & b =', bin(x & y))\n",
    "\n",
    "# or operator\n",
    "print ('x | y =', bin(x | y))\n",
    "\n",
    "# xor operator \n",
    "print ('x ^ y =', bin(x ^ y))\n",
    "\n",
    "# shift left operator\n",
    "print ('x << y =', bin(x << y))\n",
    "\n",
    "# shift right operator\n",
    "print ('x >> y =', bin(x >> y))\n",
    "\n",
    "# not operator\n",
    "print ('~ x =', bin(~ x ))"
   ]
  },
  {
   "cell_type": "code",
   "execution_count": 21,
   "id": "4eaa050d",
   "metadata": {},
   "outputs": [
    {
     "name": "stdout",
     "output_type": "stream",
     "text": [
      "a is b = True\n",
      "c is not d = False\n",
      "e is f = False\n"
     ]
    }
   ],
   "source": [
    "# Identity operators\n",
    "\n",
    "# same number objects are equal and identical\n",
    "a = 5\n",
    "b = 5\n",
    "print('a is b =', a is b)\n",
    "\n",
    "# same string objects are equal and identical\n",
    "c = 'Hi'\n",
    "d = 'Hi'\n",
    "print('c is not d =', c is not d)\n",
    "\n",
    "\n",
    "# same lists are equal but nor identical \n",
    "e = [1,2,3]\n",
    "f = [1,2,3]\n",
    "print('e is f =', e is f)\n",
    "\n",
    "# why? because python interpreter locates these lists separately in memory even though they are equal."
   ]
  },
  {
   "cell_type": "code",
   "execution_count": 28,
   "id": "50d787f0",
   "metadata": {},
   "outputs": [
    {
     "name": "stdout",
     "output_type": "stream",
     "text": [
      "b in a = True\n",
      "c not in a = False\n",
      "d in a = True\n",
      "e in a = False\n"
     ]
    }
   ],
   "source": [
    "# Membership operators\n",
    "\n",
    "a = 'Hi there'\n",
    "b = 'Hi'\n",
    "c = 'there'\n",
    "d = 'i th'\n",
    "e = '!'\n",
    "\n",
    "print('b in a =', b in a)\n",
    "print('c not in a =', c not in a)\n",
    "print('d in a =', d in a)\n",
    "print('e in a =', e in a)"
   ]
  },
  {
   "cell_type": "markdown",
   "id": "ce032158",
   "metadata": {},
   "source": [
    "<a id='1_4'></a>\n",
    "\n",
    "## 1.4 Functions"
   ]
  },
  {
   "cell_type": "markdown",
   "id": "aa801861",
   "metadata": {},
   "source": [
    "<div class=\"alert alert-block alert-info\">\n",
    "<b> Functions:</b> you are already aware of some built-in functions, as print() and len(). Now let's see how to define your own functions for your program.\n",
    "</div>"
   ]
  },
  {
   "cell_type": "code",
   "execution_count": 31,
   "id": "22298027",
   "metadata": {},
   "outputs": [
    {
     "name": "stdout",
     "output_type": "stream",
     "text": [
      "5\n"
     ]
    }
   ],
   "source": [
    "# Simple function definition\n",
    "def sum(a, b):\n",
    "    c = a + b\n",
    "    return c\n",
    "\n",
    "# calling the function\n",
    "x = sum(2, 3)\n",
    "print(x)"
   ]
  },
  {
   "cell_type": "code",
   "execution_count": 37,
   "id": "81a12ea8",
   "metadata": {},
   "outputs": [
    {
     "name": "stdout",
     "output_type": "stream",
     "text": [
      "x = 6\n",
      "outer function x = 5\n",
      "inner function x = 4\n"
     ]
    }
   ],
   "source": [
    "# Understanding scope\n",
    "\n",
    "def inner_function():\n",
    "    x = 4\n",
    "    print('inner function x =', x)\n",
    "    \n",
    "def outer_function():\n",
    "    x  = 5\n",
    "    print('outer function x =', x)\n",
    "    inner_function()\n",
    "    \n",
    "x = 6\n",
    "print('x =', x)\n",
    "outer_function()"
   ]
  },
  {
   "cell_type": "markdown",
   "id": "7c1bbbf5",
   "metadata": {},
   "source": [
    "<a id='1_5'></a>\n",
    "\n",
    "## 1.5 Lists"
   ]
  },
  {
   "cell_type": "markdown",
   "id": "1bd78e4f",
   "metadata": {},
   "source": [
    "<div class=\"alert alert-block alert-info\">\n",
    "<b> Lists:</b> lists represent ordered sequences of values which are one of the most versatile data types to work with multiple elements at once. \n",
    "</div>"
   ]
  },
  {
   "cell_type": "code",
   "execution_count": 43,
   "id": "fa9c61a2",
   "metadata": {},
   "outputs": [
    {
     "name": "stdout",
     "output_type": "stream",
     "text": [
      "x= []\n",
      "\n",
      "x = [1, 5, 8]\n",
      "x[0] = 1\n",
      "x[1] = 5\n",
      "x[-1] = 8\n",
      "x[-2] = 5\n",
      "\n",
      "x = ['banana', 1, True, 4.35]\n",
      "x[0] = banana\n",
      "x[-3] = 1\n",
      "\n",
      "x = [[1, 2, 3], 'a', [1]]\n",
      "x[0][2] = 3\n",
      "x[1] = a\n",
      "x[2][1] = 1\n"
     ]
    }
   ],
   "source": [
    "# Creating lists and accessing its elements\n",
    "\n",
    "# empty list\n",
    "x = []\n",
    "print('x=', x)\n",
    "\n",
    "# list of integers\n",
    "x = [1, 5, 8]\n",
    "print('\\nx =', x)\n",
    "print('x[0] =', x[0])\n",
    "print('x[1] =', x[1])\n",
    "print('x[-1] =', x[-1])\n",
    "print('x[-2] =', x[-2])\n",
    "\n",
    "# list with mixed types\n",
    "x = ['banana', 1, True, 4.35]\n",
    "print('\\nx =', x)\n",
    "print('x[0] =', x[0])\n",
    "print('x[-3] =', x[-3])\n",
    "\n",
    "# nested list (inception😺)\n",
    "x = [[1, 2, 3], 'a', [1]]\n",
    "print('\\nx =', x)\n",
    "print('x[0][2] =', x[0][2])\n",
    "print('x[1] =', x[1])\n",
    "print('x[2][1] =', x[2][0])"
   ]
  },
  {
   "cell_type": "code",
   "execution_count": 54,
   "id": "f60d6309",
   "metadata": {},
   "outputs": [
    {
     "name": "stdout",
     "output_type": "stream",
     "text": [
      "x[0:10] = [0, 1, 2, 3, 4, 5, 6, 7, 8, 9]\n",
      "x[:] = [0, 1, 2, 3, 4, 5, 6, 7, 8, 9]\n",
      "x[0:1] = [0]\n",
      "x[0:2] = [0, 1]\n",
      "x[5:7] = [5, 6]\n",
      "x[0:] = [0, 1, 2, 3, 4, 5, 6, 7, 8, 9]\n",
      "x[:-5] = [5, 6, 7, 8, 9]\n"
     ]
    }
   ],
   "source": [
    "# Slicing lists\n",
    "\n",
    "x = [0, 1, 2, 3, 4, 5, 6, 7, 8, 9]\n",
    "\n",
    "print('x[0:10] =', x[0:10])\n",
    "print('x[:] =', x[:])\n",
    "print('x[0:1] =', x[0:1])\n",
    "print('x[0:2] =', x[0:2])\n",
    "print('x[5:7] =', x[5:7])\n",
    "print('x[0:] =', x[0:])\n",
    "print('x[:-5] =', x[-5:])"
   ]
  },
  {
   "cell_type": "code",
   "execution_count": 72,
   "id": "dfb66235",
   "metadata": {},
   "outputs": [
    {
     "name": "stdout",
     "output_type": "stream",
     "text": [
      "x = [1, 3, 5, 7]\n",
      "\n",
      "x = [2, 3, 5, 7]\n",
      "\n",
      "x = [2, 4, 6, 7]\n",
      "\n",
      "x = [2, 4, 6, 7, 10]\n",
      "\n",
      "x = [2, 4, 6, 7, 10, 12, 14, 16]\n",
      "\n",
      "x = [2, 4, 6, 7, 10, 12, 14, 16, 18, 20]\n",
      "\n",
      "x = [2, 4, 6, 7, 10, 11, 12, 14, 16, 18, 20]\n",
      "\n",
      "x = [2, 4, 6, 7, 10, 12, 14, 16, 18, 20]\n",
      "\n",
      "x = [20, 18, 16, 14, 12, 10, 7, 6, 4, 2]\n",
      "\n",
      "x = [20, 18, 16, 14, 12, 10, 7, 6, 4]\n",
      "last_item = 2\n",
      "\n",
      "x = []\n"
     ]
    }
   ],
   "source": [
    "# Modifying lists\n",
    "\n",
    "x = [1, 3, 5, 7]\n",
    "print('x =', x)\n",
    "\n",
    "# changing first element\n",
    "x[0] = 2\n",
    "print('\\nx =', x)\n",
    "\n",
    "# changing sequence of elements\n",
    "x[1:3] = [4, 6]\n",
    "print('\\nx =', x)\n",
    "\n",
    "# append element\n",
    "x.append(10)\n",
    "print('\\nx =', x)\n",
    "\n",
    "# extend with several elements\n",
    "x.extend([12, 14, 16])\n",
    "print('\\nx =', x)\n",
    "\n",
    "# concatenating lists\n",
    "x = x + [18, 20]\n",
    "print('\\nx =', x)\n",
    "\n",
    "# inserting element at specific location\n",
    "x.insert(5, 11)\n",
    "print('\\nx =', x)\n",
    "\n",
    "# delete element\n",
    "del(x[5])\n",
    "print('\\nx =', x)\n",
    "\n",
    "# reverse list\n",
    "x.reverse()\n",
    "print('\\nx =', x)\n",
    "\n",
    "# pop last item\n",
    "last_item = x.pop()\n",
    "print('\\nx =', x)\n",
    "print('last_item =', last_item)\n",
    "\n",
    "# clear list\n",
    "x.clear()\n",
    "print('\\nx =', x)"
   ]
  },
  {
   "cell_type": "code",
   "execution_count": 76,
   "id": "b195eda1",
   "metadata": {},
   "outputs": [
    {
     "name": "stdout",
     "output_type": "stream",
     "text": [
      "x = [0, 2, 4, 6, 8]\n",
      "\n",
      "x = [0, 1, 2, 3, 4]\n"
     ]
    }
   ],
   "source": [
    "# List comprehension - concise way to create lists\n",
    "\n",
    "x = [i * 2 for i in range(5)]\n",
    "print('x =', x)\n",
    "\n",
    "x = [int(i / 2) for i in x]\n",
    "print('\\nx =', x)"
   ]
  },
  {
   "cell_type": "code",
   "execution_count": 79,
   "id": "e9911521",
   "metadata": {},
   "outputs": [
    {
     "name": "stdout",
     "output_type": "stream",
     "text": [
      "a in x = True\n",
      "d in x = False\n"
     ]
    }
   ],
   "source": [
    "# List membership test\n",
    "\n",
    "x = ['a', 'b', 'c', 'e']\n",
    "\n",
    "print('a in x =', 'a' in x)\n",
    "print('d in x =', 'd' in x)"
   ]
  },
  {
   "cell_type": "code",
   "execution_count": 83,
   "id": "720c86dc",
   "metadata": {},
   "outputs": [
    {
     "name": "stdout",
     "output_type": "stream",
     "text": [
      "red\n",
      "green\n",
      "blue\n",
      "\n",
      "0.red\n",
      "\n",
      "1.green\n",
      "\n",
      "2.blue\n"
     ]
    }
   ],
   "source": [
    "# Iterating through a list\n",
    "\n",
    "color_list = ['red', 'green', 'blue']\n",
    "\n",
    "for color in color_list:\n",
    "    print(color)\n",
    "\n",
    "for i, color in enumerate(color_list):\n",
    "    print('\\n' + str(i) + '.' + color)"
   ]
  },
  {
   "cell_type": "markdown",
   "id": "77663dba",
   "metadata": {},
   "source": [
    "### Summary of list methods:\n",
    "Method |Description|\n",
    "-----|:-----|\n",
    "append()|adds an element to the end of the list|\n",
    "extend()|adds all elements of a list to another list|\n",
    "insert()|inserts an item at the defined index|\n",
    "remove()|removes an item from the list|\n",
    "pop()|returns and removes an element at the given index|\n",
    "clear()|removes all items from the list|\n",
    "index()|returns the index of the first matched item|\n",
    "count()|returns the count of the number of items passed as an argument|\n",
    "sort()|sort items in a list in ascending order|\n",
    "resverse()|reverse the order of items in the list|\n",
    "copy()|returns a shallow copy of the list|"
   ]
  },
  {
   "cell_type": "markdown",
   "id": "b5a209e0",
   "metadata": {},
   "source": [
    "<a id='1_6'></a>\n",
    "\n",
    "## 1.6 Tuples"
   ]
  },
  {
   "cell_type": "markdown",
   "id": "80844439",
   "metadata": {},
   "source": [
    "<div class=\"alert alert-block alert-info\">\n",
    "<b> Tuples:</b> tuples are very simmilar to lists. The differences are that tuples are immutable and the syntax for creating them uses parenthesis instead of square brackets. \n",
    "</div>"
   ]
  },
  {
   "cell_type": "code",
   "execution_count": 94,
   "id": "ed1c4904",
   "metadata": {
    "scrolled": false
   },
   "outputs": [
    {
     "ename": "TypeError",
     "evalue": "'tuple' object does not support item assignment",
     "output_type": "error",
     "traceback": [
      "\u001b[1;31m---------------------------------------------------------------------------\u001b[0m",
      "\u001b[1;31mTypeError\u001b[0m                                 Traceback (most recent call last)",
      "\u001b[1;32m<ipython-input-94-103c2c450e1e>\u001b[0m in \u001b[0;36m<module>\u001b[1;34m\u001b[0m\n\u001b[0;32m      2\u001b[0m \u001b[1;33m\u001b[0m\u001b[0m\n\u001b[0;32m      3\u001b[0m \u001b[0mtuple\u001b[0m \u001b[1;33m=\u001b[0m \u001b[1;33m(\u001b[0m\u001b[1;36m1\u001b[0m\u001b[1;33m,\u001b[0m \u001b[1;36m2\u001b[0m\u001b[1;33m,\u001b[0m \u001b[1;36m3\u001b[0m\u001b[1;33m)\u001b[0m\u001b[1;33m\u001b[0m\u001b[1;33m\u001b[0m\u001b[0m\n\u001b[1;32m----> 4\u001b[1;33m \u001b[0mtuple\u001b[0m\u001b[1;33m[\u001b[0m\u001b[1;36m0\u001b[0m\u001b[1;33m]\u001b[0m \u001b[1;33m=\u001b[0m \u001b[1;36m10\u001b[0m\u001b[1;33m\u001b[0m\u001b[1;33m\u001b[0m\u001b[0m\n\u001b[0m",
      "\u001b[1;31mTypeError\u001b[0m: 'tuple' object does not support item assignment"
     ]
    }
   ],
   "source": [
    "# Creating and trying to modify a tuple\n",
    "\n",
    "tuple = (1, 2, 3)\n",
    "tuple[0] = 10"
   ]
  },
  {
   "cell_type": "code",
   "execution_count": 95,
   "id": "35b7dad7",
   "metadata": {},
   "outputs": [
    {
     "name": "stdout",
     "output_type": "stream",
     "text": [
      "x = 0.25\n",
      "x data type is <class 'float'>\n",
      "\n",
      "x = (1, 4)\n",
      "x data type is <class 'tuple'>\n"
     ]
    }
   ],
   "source": [
    "# Example of function that returns tuple\n",
    "\n",
    "x = 0.25\n",
    "print('x =', x)\n",
    "print('x data type is', type(x))\n",
    "\n",
    "x = x.as_integer_ratio()\n",
    "print('\\nx =', x)\n",
    "print('x data type is', type(x))\n",
    "\n"
   ]
  },
  {
   "cell_type": "markdown",
   "id": "115039e5",
   "metadata": {},
   "source": [
    "<a id='1_7'></a>\n",
    "\n",
    "## 1.7 Dictionaries"
   ]
  },
  {
   "cell_type": "markdown",
   "id": "1eba7589",
   "metadata": {},
   "source": [
    "<div class=\"alert alert-block alert-info\">\n",
    "<b> Dictionaries:</b> dicts are structures used for mapping keys to values. These key-value correspondence offer a great way of organizing and storing data.\n",
    "</div>"
   ]
  },
  {
   "cell_type": "code",
   "execution_count": 112,
   "id": "d058b3fa",
   "metadata": {},
   "outputs": [
    {
     "name": "stdout",
     "output_type": "stream",
     "text": [
      "dict = {'01': 'january', '02': 'february', '03': 'march', '04': 'april'}\n",
      "dict['03'] =  march\n",
      "dict = {'01': 'january', '02': 'february', '03': 'march', '04': 'APRIL'}\n"
     ]
    }
   ],
   "source": [
    "# Creating, accessing, and modifying dicts\n",
    "\n",
    "# creating dict\n",
    "dict = {\n",
    "    '01':'january',\n",
    "    '02':'february',\n",
    "    '03':'march',\n",
    "    '04':'april',\n",
    "}\n",
    "print('dict =', dict)\n",
    "\n",
    "# acessing element\n",
    "print('dict[\\'03\\'] = ', dict['03'])\n",
    "\n",
    "# modifying element\n",
    "dict['04'] = 'APRIL'\n",
    "print('dict =', dict)"
   ]
  },
  {
   "cell_type": "code",
   "execution_count": 169,
   "id": "ca64f236",
   "metadata": {},
   "outputs": [
    {
     "name": "stdout",
     "output_type": "stream",
     "text": [
      "looping through keys:\n",
      "key =  01\n",
      "value = january\n",
      "key =  02\n",
      "value = february\n",
      "key =  03\n",
      "value = march\n",
      "key =  04\n",
      "value = APRIL\n",
      "\n",
      "looping through both keys and values:\n",
      "01 january\n",
      "02 february\n",
      "03 march\n",
      "04 APRIL\n"
     ]
    }
   ],
   "source": [
    "# Looping through dict \n",
    "\n",
    "print('looping through keys:')\n",
    "for key in dict:\n",
    "    print('key = ', key)\n",
    "    print('value =', dict[key])\n",
    "\n",
    "print('\\nlooping through both keys and values:')\n",
    "for key, val in dict.items():\n",
    "    print(key, val)"
   ]
  },
  {
   "cell_type": "markdown",
   "id": "bb570474",
   "metadata": {},
   "source": [
    "<a id='1_8'></a>\n",
    "\n",
    "## 1.8 Conditional Statements and Loops"
   ]
  },
  {
   "cell_type": "markdown",
   "id": "4ba897e7",
   "metadata": {},
   "source": [
    "<div class=\"alert alert-block alert-info\">\n",
    "<b> Conditional Statements and Loops:</b> just like any programming language, python supports conditional statements and loops.\n",
    "</div>"
   ]
  },
  {
   "cell_type": "code",
   "execution_count": 146,
   "id": "ea72ad73",
   "metadata": {},
   "outputs": [
    {
     "name": "stdout",
     "output_type": "stream",
     "text": [
      "x =  5\n",
      "5 is > 3\n",
      "5 is > 4\n"
     ]
    }
   ],
   "source": [
    "# if statements\n",
    "print('x = ', x)\n",
    "if x > 3:\n",
    "    print(x, 'is > 3')\n",
    "    if x > 4:\n",
    "        print(x, 'is > 4')\n",
    "        if x > 5:\n",
    "            print(x, 'is > 5')"
   ]
  },
  {
   "cell_type": "code",
   "execution_count": 147,
   "id": "305af598",
   "metadata": {},
   "outputs": [
    {
     "name": "stdout",
     "output_type": "stream",
     "text": [
      "x =  5\n",
      "5 is > 3\n"
     ]
    }
   ],
   "source": [
    "# if + elif statements\n",
    "print('x = ', x)\n",
    "if x > 3:\n",
    "    print(x, 'is > 3')\n",
    "elif x > 4:\n",
    "    print(x, 'is > 4')"
   ]
  },
  {
   "cell_type": "code",
   "execution_count": 148,
   "id": "7e0a282c",
   "metadata": {
    "scrolled": true
   },
   "outputs": [
    {
     "name": "stdout",
     "output_type": "stream",
     "text": [
      "x =  5\n",
      "here\n"
     ]
    }
   ],
   "source": [
    "# if + elif + else statements\n",
    "print('x = ', x)\n",
    "if x > 6:\n",
    "    print(x, 'is > 6')\n",
    "elif x > 5:\n",
    "    print(x, 'is > 5')\n",
    "else:\n",
    "    print('here')"
   ]
  },
  {
   "cell_type": "code",
   "execution_count": 149,
   "id": "f74a869d",
   "metadata": {},
   "outputs": [
    {
     "name": "stdout",
     "output_type": "stream",
     "text": [
      "x =  5\n"
     ]
    }
   ],
   "source": [
    "# pass statement\n",
    "print('x = ', x)\n",
    "if x < 3:\n",
    "    print(x, 'is > 6')\n",
    "else:\n",
    "    pass"
   ]
  },
  {
   "cell_type": "code",
   "execution_count": 167,
   "id": "61d76e4b",
   "metadata": {
    "scrolled": true
   },
   "outputs": [
    {
     "name": "stdout",
     "output_type": "stream",
     "text": [
      "list of numbers:\n",
      "0\n",
      "1\n",
      "2\n",
      "president list:\n",
      "obama\n",
      "trump\n",
      "biden\n",
      "president list with counter:\n",
      "0 obama\n",
      "1 trump\n",
      "2 biden\n",
      "president list with election year:\n",
      "2009 obama\n",
      "2017 trump\n",
      "2021 biden\n"
     ]
    }
   ],
   "source": [
    "# for loop\n",
    "\n",
    "print('list of numbers:')\n",
    "for i in range(3):\n",
    "    print(i)\n",
    "    \n",
    "president_list = ['obama', 'trump', 'biden']\n",
    "year_list = ['2009', '2017', '2021']\n",
    "\n",
    "print('president list:')\n",
    "for president in president_list:\n",
    "    print(president)\n",
    "\n",
    "print('president list with counter:')\n",
    "for i, president in enumerate(president_list):\n",
    "    print(i, president)\n",
    "\n",
    "print('president list with election year:')\n",
    "for year, president in zip(year_list, president_list):\n",
    "    print(year, president)\n",
    "\n"
   ]
  },
  {
   "cell_type": "code",
   "execution_count": 161,
   "id": "2ef75687",
   "metadata": {},
   "outputs": [
    {
     "name": "stdout",
     "output_type": "stream",
     "text": [
      "1\n",
      "2\n",
      "3\n",
      "4\n"
     ]
    }
   ],
   "source": [
    "# while loop\n",
    "\n",
    "i = 1\n",
    "while i < 5:\n",
    "    print(i)\n",
    "    i = i + 1"
   ]
  },
  {
   "cell_type": "code",
   "execution_count": 166,
   "id": "b91fcee1",
   "metadata": {},
   "outputs": [
    {
     "name": "stdout",
     "output_type": "stream",
     "text": [
      "breaking while loop:\n",
      "1\n",
      "2\n",
      "3\n",
      "breaking for loop:\n",
      "1\n",
      "2\n",
      "3\n"
     ]
    }
   ],
   "source": [
    "# breaking loops\n",
    "\n",
    "print('breaking while loop:')\n",
    "i = 1\n",
    "while i < 10:\n",
    "    print(i)\n",
    "    if i == 3:\n",
    "        break\n",
    "    i = i + 1\n",
    "\n",
    "print('breaking for loop:')\n",
    "for i in range(1,10):\n",
    "    print(i)\n",
    "    if i == 3:\n",
    "        break"
   ]
  },
  {
   "cell_type": "markdown",
   "id": "a1b3cc87",
   "metadata": {},
   "source": [
    "<a id='1_9'></a>\n",
    "\n",
    "## 1.9 Classes"
   ]
  },
  {
   "cell_type": "markdown",
   "id": "580c297b",
   "metadata": {},
   "source": [
    "<div class=\"alert alert-block alert-info\">\n",
    "<b> Classes:</b> Python is an object-oriented programming language (OOP) therefore it focuses on creating reusable code. A class acts like a blueprint for the object. OOP is not only a manner of writting efficient code, but also a way of keeping data secure with data abstraction.\n",
    "</div>"
   ]
  },
  {
   "cell_type": "code",
   "execution_count": 191,
   "id": "c34dc1e9",
   "metadata": {},
   "outputs": [
    {
     "name": "stdout",
     "output_type": "stream",
     "text": [
      "Peppa is a mammalia\n",
      "Peppa is 2 years old\n"
     ]
    }
   ],
   "source": [
    "# Creating classes and objects\n",
    "\n",
    "# class creation\n",
    "class Pig:\n",
    "    sci_class = 'mammalia'\n",
    "    sci_family = 'suidae' \n",
    "    \n",
    "    def __init__(self, name, age):\n",
    "        self.name = name\n",
    "        self.age = age\n",
    "        \n",
    "# instantiating class through object creation\n",
    "peppa = Pig('Peppa', 2)\n",
    "\n",
    "# access class attributes\n",
    "print(\"Peppa is a {}\".format(peppa.__class__.sci_class))\n",
    "\n",
    "# access instance attributes\n",
    "print(\"{} is {} years old\".format( peppa.name, peppa.age))\n"
   ]
  },
  {
   "cell_type": "code",
   "execution_count": 193,
   "id": "3caf0f77",
   "metadata": {},
   "outputs": [
    {
     "name": "stdout",
     "output_type": "stream",
     "text": [
      "Peppa says oink oink oink!\n"
     ]
    }
   ],
   "source": [
    "# Creating methods\n",
    "\n",
    "class Pig:\n",
    "    sci_class = 'mammalia'\n",
    "    sci_family = 'suidae' \n",
    "    \n",
    "    def __init__(self, name, age):\n",
    "        self.name = name\n",
    "        self.age = age\n",
    "        \n",
    "    def oink(self):\n",
    "        print(\"{} says oink oink oink!\".format(self.name))\n",
    "    \n",
    "peppa = Pig('Peppa', 2)\n",
    "peppa.oink()\n",
    "    "
   ]
  },
  {
   "cell_type": "code",
   "execution_count": 202,
   "id": "275bd1a0",
   "metadata": {},
   "outputs": [
    {
     "name": "stdout",
     "output_type": "stream",
     "text": [
      "Animal is ready!\n",
      "Peppa is 2 years old\n",
      "Peppa says oink oink oink!\n",
      "animal\n",
      "mammalia\n",
      "suidae\n"
     ]
    }
   ],
   "source": [
    "# Inheritance\n",
    "\n",
    "class Animal:\n",
    "    sci_kingdom = 'animal'\n",
    "    def __init__(self, name, age):\n",
    "        self.name = name\n",
    "        self.age = age\n",
    "        print('Animal is ready!')\n",
    "        \n",
    "class Pig(Animal):\n",
    "    sci_class = 'mammalia'\n",
    "    sci_family = 'suidae'\n",
    "    \n",
    "    def oink(self):\n",
    "        print(\"{} says oink oink oink!\".format(self.name))\n",
    "    \n",
    "peppa = Pig('Peppa', 2)\n",
    "print(\"{} is {} years old\".format( peppa.name, peppa.age))\n",
    "peppa.oink()\n",
    "print(peppa.sci_kingdom)\n",
    "print(peppa.sci_class)\n",
    "print(peppa.sci_family)"
   ]
  },
  {
   "cell_type": "code",
   "execution_count": 199,
   "id": "f2c6938e",
   "metadata": {},
   "outputs": [
    {
     "name": "stdout",
     "output_type": "stream",
     "text": [
      "Animal is ready!\n",
      "Rex is 2 years old\n"
     ]
    },
    {
     "ename": "AttributeError",
     "evalue": "'Animal' object has no attribute 'age'",
     "output_type": "error",
     "traceback": [
      "\u001b[1;31m---------------------------------------------------------------------------\u001b[0m",
      "\u001b[1;31mAttributeError\u001b[0m                            Traceback (most recent call last)",
      "\u001b[1;32m<ipython-input-199-4b2a41768b09>\u001b[0m in \u001b[0;36m<module>\u001b[1;34m\u001b[0m\n\u001b[0;32m     22\u001b[0m \u001b[1;33m\u001b[0m\u001b[0m\n\u001b[0;32m     23\u001b[0m \u001b[1;31m# trying to directly access private attribute causes error\u001b[0m\u001b[1;33m\u001b[0m\u001b[1;33m\u001b[0m\u001b[1;33m\u001b[0m\u001b[0m\n\u001b[1;32m---> 24\u001b[1;33m \u001b[0mprint\u001b[0m\u001b[1;33m(\u001b[0m\u001b[0mrex\u001b[0m\u001b[1;33m.\u001b[0m\u001b[0mage\u001b[0m\u001b[1;33m)\u001b[0m\u001b[1;33m\u001b[0m\u001b[1;33m\u001b[0m\u001b[0m\n\u001b[0m",
      "\u001b[1;31mAttributeError\u001b[0m: 'Animal' object has no attribute 'age'"
     ]
    }
   ],
   "source": [
    "# Encapsulation\n",
    "\n",
    "class Animal:\n",
    "    sci_kingdom = 'animal'\n",
    "    def __init__(self, name, age):\n",
    "        self.name = name\n",
    "        # using double underlime prefix to denotate private attribute\n",
    "        self.__age = age\n",
    "        print('Animal is ready!')\n",
    "    # creating interfaces to set and get private attribute\n",
    "    def get_age(self):\n",
    "        return self.__age\n",
    "        \n",
    "    def set_age(self, age):\n",
    "        self.__age = age\n",
    "\n",
    "# creating object\n",
    "rex = Animal('Rex', 2)\n",
    "\n",
    "# proper way of acessing instance attributes\n",
    "print(\"{} is {} years old\".format(rex.name, rex.get_age()))\n",
    "\n",
    "# trying to directly access private attribute causes error\n",
    "print(rex.age)"
   ]
  },
  {
   "cell_type": "code",
   "execution_count": 204,
   "id": "9d9bd7db",
   "metadata": {},
   "outputs": [
    {
     "name": "stdout",
     "output_type": "stream",
     "text": [
      "Animal is ready!\n",
      "Peppa says oink oink oink!\n",
      "Animal is ready!\n",
      "Doug says au au au!\n"
     ]
    }
   ],
   "source": [
    "# Polymorhism - common methods for different data types\n",
    "\n",
    "class Animal:\n",
    "    sci_kingdom = 'animal'\n",
    "    def __init__(self, name, age):\n",
    "        self.name = name\n",
    "        self.age = age\n",
    "        print('Animal is ready!')\n",
    "        \n",
    "class Pig(Animal):\n",
    "    sci_class = 'mammalia'\n",
    "    sci_family = 'suidae'\n",
    "    \n",
    "    def make_noise(self):\n",
    "        print(\"{} says oink oink oink!\".format(self.name))\n",
    "\n",
    "class Dog(Animal):\n",
    "    sci_class = 'mammalia'\n",
    "    sci_family = 'canidae'\n",
    "    \n",
    "    def make_noise(self):\n",
    "        print(\"{} says au au au!\".format(self.name))\n",
    "    \n",
    "# instantiate objects and call common method\n",
    "peppa = Pig('Peppa', 2)\n",
    "peppa.make_noise()\n",
    "\n",
    "doug = Dog('Doug', 5)\n",
    "doug.make_noise()"
   ]
  },
  {
   "cell_type": "markdown",
   "id": "9284660c",
   "metadata": {},
   "source": [
    "<a id='1_10'></a>\n",
    "\n",
    "## 1.10 Error Handling"
   ]
  },
  {
   "cell_type": "markdown",
   "id": "3bd618a1",
   "metadata": {},
   "source": [
    "<div class=\"alert alert-block alert-info\">\n",
    "<b> Error Handling:</b> Python has a list of built-in errors (aka exceptions) that will pop-up when the interpreter hits a mistake in the code. There is a useful try/except statement to troubleshoot these errors. \n",
    "</div>"
   ]
  },
  {
   "cell_type": "markdown",
   "id": "2f549603",
   "metadata": {},
   "source": [
    "### Most common exceptions are listed below\n",
    "\n",
    "> Don't worry about understanding details, just be aware that there are several types of exceptions and the thrown error can give you a clue on what's wrong and how to handle it.\n",
    "\n",
    "Exception |Cause of Error|\n",
    "-----|:-----|\n",
    "AssertionError|Raised when an assert statement fails|\n",
    "AttributeError|Raised when attribute assignment or reference fails|\n",
    "EOFError|Raised when the input() function hits end-of-file condition|\n",
    "FloatingPointError|\tRaised when a floating point operation fails|\n",
    "GeneratorExit|\tRaise when a generator's close() method is called|\n",
    "ImportError|\tRaised when the imported module is not found|\n",
    "IndexError|\tRaised when the index of a sequence is out of range|\n",
    "KeyError|\tRaised when a key is not found in a dictionary|\n",
    "KeyboardInterrupt|\tRaised when the user hits the interrupt key (Ctrl+C or Delete)|\n",
    "MemoryError|\tRaised when an operation runs out of memory|\n",
    "NameError|\tRaised when a variable is not found in local or global scope|\n",
    "NotImplementedError|\tRaised by abstract methods|\n",
    "OSError|\tRaised when system operation causes system related error|\n",
    "OverflowError|\tRaised when the result of an arithmetic operation is too large to be represented|\n",
    "ReferenceError|\tRaised when a weak reference proxy is used to access a garbage collected referent|\n",
    "RuntimeError|\tRaised when an error does not fall under any other category|\n",
    "StopIteration|\tRaised by next() function to indicate that there is no further item to be returned by iterator|\n",
    "SyntaxError|\tRaised by parser when syntax error is encountered|\n",
    "IndentationError|\tRaised when there is incorrect indentation|\n",
    "TabError|\tRaised when indentation consists of inconsistent tabs and spaces|\n",
    "SystemError|\tRaised when interpreter detects internal error|\n",
    "SystemExit|\tRaised by sys|exit() function|\n",
    "TypeError|\tRaised when a function or operation is applied to an object of incorrect type|\n",
    "UnboundLocalError|\tRaised when a reference is made to a local variable in a function or method, but no value has been bound to that variable|\n",
    "UnicodeError|\tRaised when a Unicode-related encoding or decoding error occurs|\n",
    "UnicodeEncodeError|\tRaised when a Unicode-related error occurs during encoding|\n",
    "UnicodeDecodeError|\tRaised when a Unicode-related error occurs during decoding|\n",
    "UnicodeTranslateError|\tRaised when a Unicode-related error occurs during translating|\n",
    "ValueError|\tRaised when a function gets an argument of correct type but improper value|\n",
    "ZeroDivisionError|\tRaised when the second operand of division or modulo operation is zero|"
   ]
  },
  {
   "cell_type": "code",
   "execution_count": 212,
   "id": "ee0c7560",
   "metadata": {},
   "outputs": [
    {
     "name": "stdout",
     "output_type": "stream",
     "text": [
      "NameError was raised: name 'value' is not defined\n"
     ]
    }
   ],
   "source": [
    "# How to troubleshoot exceptions with try/except statement\n",
    "\n",
    "dict_a = {'a':1, 'b':2, 'c':3}\n",
    "\n",
    "try:\n",
    "    value == dict_a(\"d\")\n",
    "except IndexError:\n",
    "    print('Index does not exist!')\n",
    "except KeyError:\n",
    "    print('Key does not exist!')\n",
    "except Exception as err:\n",
    "    print(f\"{type(err).__name__} was raised: {err}\")"
   ]
  }
 ],
 "metadata": {
  "kernelspec": {
   "display_name": "Python 3",
   "language": "python",
   "name": "python3"
  },
  "language_info": {
   "codemirror_mode": {
    "name": "ipython",
    "version": 3
   },
   "file_extension": ".py",
   "mimetype": "text/x-python",
   "name": "python",
   "nbconvert_exporter": "python",
   "pygments_lexer": "ipython3",
   "version": "3.8.8"
  }
 },
 "nbformat": 4,
 "nbformat_minor": 5
}
